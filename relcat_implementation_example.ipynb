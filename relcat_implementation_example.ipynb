{
 "cells": [
  {
   "cell_type": "code",
   "execution_count": 1,
   "metadata": {
    "collapsed": false
   },
   "outputs": [],
   "source": [
    "# Import the necessary libraries\n",
    "import relcat\n",
    "import cmaes\n",
    "import numpy as np"
   ]
  },
  {
   "cell_type": "code",
   "execution_count": 2,
   "metadata": {
    "collapsed": false
   },
   "outputs": [
    {
     "name": "stdout",
     "output_type": "stream",
     "text": [
      "46\n"
     ]
    }
   ],
   "source": [
    "# Create a relcat task functor\n",
    "relcat_default_task = relcat.RelationalCategorization()\n",
    "print(relcat_default_task.num_parameters)"
   ]
  },
  {
   "cell_type": "code",
   "execution_count": 3,
   "metadata": {
    "collapsed": false
   },
   "outputs": [
    {
     "name": "stdout",
     "output_type": "stream",
     "text": [
      "Generation:  0\n",
      "Generation:  1\n",
      "Generation:  2\n",
      "Generation:  3\n",
      "Generation:  4\n",
      "Generation:  5\n",
      "Generation:  6\n",
      "Generation:  7\n",
      "Generation:  8\n",
      "Generation:  9\n"
     ]
    },
    {
     "data": {
      "image/png": "[encoded data removed]",
      "text/plain": [
       "<matplotlib.figure.Figure at 0x7f3b706b92e8>"
      ]
     },
     "metadata": {},
     "output_type": "display_data"
    }
   ],
   "source": [
    "evo = cmaes.CMAEvolutionaryStrategy(0.5*np.ones(relcat_default_task.num_parameters), sigma0=0.2)\n",
    "evo.engage(relcat_default_task, iterations=10,\n",
    "        parallel=True, num_of_jobs=7,\n",
    "        verbose=True,\n",
    "        bounds=[(0,1) for i in range(relcat_default_task.num_parameters)],\n",
    "        boundary_penalty=False)\n",
    "%matplotlib inline\n",
    "evo.plot_cost_over_time()"
   ]
  },
  {
   "cell_type": "code",
   "execution_count": null,
   "metadata": {
    "collapsed": false
   },
   "outputs": [],
   "source": [
    "# Use function version of CMA-ES for the task\n",
    "best_agent_parameters, best_agent_performance = cmaes.fmin(relcat_default_task, \n",
    "        x0=np.random.uniform(0,1,size=relcat_default_task.num_parameters),\n",
    "        sigma0=0.2, iterations=10,\n",
    "        parallel=False, num_of_jobs=1,\n",
    "        verbose=True,\n",
    "        bounds=[(0,1) for i in range(relcat_default_task.num_parameters)])"
   ]
  },
  {
   "cell_type": "code",
   "execution_count": 4,
   "metadata": {
    "collapsed": false
   },
   "outputs": [
    {
     "data": {
      "text/plain": [
       "2.0"
      ]
     },
     "execution_count": 4,
     "metadata": {},
     "output_type": "execute_result"
    }
   ],
   "source": [
    "relcat_default_task(np.random.uniform(0,1,size=relcat_default_task.num_parameters))"
   ]
  },
  {
   "cell_type": "code",
   "execution_count": 10,
   "metadata": {
    "collapsed": false
   },
   "outputs": [
    {
     "data": {
      "text/plain": [
       "1"
      ]
     },
     "execution_count": 10,
     "metadata": {},
     "output_type": "execute_result"
    }
   ],
   "source": [
    "relcat_default_task.run_test_trial(evo.get_best(), \n",
    "                                   20.0, 40.0)"
   ]
  },
  {
   "cell_type": "code",
   "execution_count": null,
   "metadata": {
    "collapsed": false
   },
   "outputs": [],
   "source": [
    "from vpython import *\n",
    "scene.title = \"Trial Simulation\"\n",
    "scene.center = vector(relcat_default_task.world_right/2, \n",
    "                      relcat_default_task.world_bottom/2,0)\n",
    "scene.background = color.black\n",
    "scene.range = 175\n",
    "box(pos=vector(relcat_default_task.world_right/2,\n",
    "              relcat_default_task.world_bottom/2,0),\n",
    "   length=relcat_default_task.world_right,\n",
    "   height=relcat_default_task.world_bottom,\n",
    "   width=1,\n",
    "   color=color.white)\n",
    "ball = sphere(pos=vector(relcat_default_task.object_records['ball']['x'][0],\n",
    "                  relcat_default_task.object_records['ball']['y'][0],0),\n",
    "             radius=relcat_default_task.object_records['ball']['radius'][0],\n",
    "             color=color.blue)\n",
    "agent = sphere(pos=vector(relcat_default_task.object_records['agent']['x'][0],\n",
    "                  relcat_default_task.object_records['agent']['y'][0],0),\n",
    "             radius=relcat_default_task.object_records['agent']['radius'][0],\n",
    "             color=color.orange)\n",
    "rays = []\n",
    "for i in range(relcat_default_task.num_rays):\n",
    "    rays.append(arrow(pos=vector(relcat_default_task.object_records[i]['x1'][0],\n",
    "                          relcat_default_task.object_records[i]['y1'][0],0),\n",
    "                     axis=vector(relcat_default_task.object_records[i]['x2'][0] \n",
    "                                 - relcat_default_task.object_records[i]['x1'][0],\n",
    "                                 relcat_default_task.object_records[i]['y2'][0]\n",
    "                                 - relcat_default_task.object_records[i]['y1'][0],0),\n",
    "                     color=color.cyan,\n",
    "                     shaftwidth=1))\n",
    "\n",
    "while True:\n",
    "    for i in range(len(relcat_default_task.time_records)):\n",
    "        rate(150)\n",
    "        ball.pos.x = relcat_default_task.object_records['ball']['x'][i]\n",
    "        ball.pos.y = relcat_default_task.object_records['ball']['y'][i]\n",
    "        ball.radius = relcat_default_task.object_records['ball']['radius'][i]\n",
    "        agent.pos.x = relcat_default_task.object_records['agent']['x'][i]\n",
    "        agent.pos.y = relcat_default_task.object_records['agent']['y'][i]\n",
    "        agent.radius = relcat_default_task.object_records['agent']['radius'][i]\n",
    "        for j, ray in enumerate(rays):\n",
    "            ray.pos.x = relcat_default_task.object_records[j]['x1'][i]\n",
    "            ray.pos.y = relcat_default_task.object_records[j]['y1'][i]\n",
    "            ray.axis.x = relcat_default_task.object_records[j]['x2'][i] \\\n",
    "                    - relcat_default_task.object_records[j]['x1'][i]\n",
    "            ray.axis.y = relcat_default_task.object_records[j]['y2'][i] \\\n",
    "                    - relcat_default_task.object_records[j]['y1'][i]"
   ]
  },
  {
   "cell_type": "code",
   "execution_count": 4,
   "metadata": {
    "collapsed": true
   },
   "outputs": [],
   "source": []
  },
  {
   "cell_type": "code",
   "execution_count": null,
   "metadata": {
    "collapsed": false
   },
   "outputs": [],
   "source": []
  },
  {
   "cell_type": "code",
   "execution_count": null,
   "metadata": {
    "collapsed": true
   },
   "outputs": [],
   "source": []
  }
 ],
 "metadata": {
  "anaconda-cloud": {},
  "kernelspec": {
   "display_name": "VPython",
   "language": "python",
   "name": "vpython"
  },
  "language_info": {
   "codemirror_mode": {
    "name": "ipython",
    "version": 3
   },
   "file_extension": ".py",
   "mimetype": "text/x-python",
   "name": "python",
   "nbconvert_exporter": "python",
   "pygments_lexer": "ipython3",
   "version": "3.5.2"
  }
 },
 "nbformat": 4,
 "nbformat_minor": 1
}
